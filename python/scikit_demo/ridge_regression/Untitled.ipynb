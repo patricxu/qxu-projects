{
 "cells": [
  {
   "cell_type": "code",
   "execution_count": 1,
   "metadata": {
    "collapsed": true
   },
   "outputs": [],
   "source": [
    "import numpy as np\n",
    "import matplotlib as mpl\n",
    "from mpl_toolkits.mplot3d import Axes3D\n",
    "from matplotlib import cm\n",
    "import time\n",
    "from scipy.optimize import leastsq\n",
    "from scipy import stats\n",
    "import scipy.optimize as opt\n",
    "import matplotlib.pyplot as plt\n",
    "from scipy.stats import norm, poisson\n",
    "from scipy.interpolate import BarycentricInterpolator\n",
    "#from scipy.interpolate import CubicSpline\n",
    "import scipy as sp\n",
    "import math"
   ]
  },
  {
   "cell_type": "code",
   "execution_count": 5,
   "metadata": {
    "collapsed": false
   },
   "outputs": [],
   "source": [
    "t = 1000\n",
    "a = np.zeros(10000)\n",
    "for i in range(t):\n",
    "    a += np.random.uniform(-5, 5, 10000)\n",
    "a /= t\n",
    "plt.hist(a, bins=100, normed=True)\n",
    "plt.show()"
   ]
  },
  {
   "cell_type": "code",
   "execution_count": 21,
   "metadata": {
    "collapsed": false
   },
   "outputs": [],
   "source": [
    "lamda = 7\n",
    "a = np.zeros(10000)\n",
    "for i in range(t):\n",
    "    a += np.random.poisson(lam=lamda, size=10000)\n",
    "a\n",
    "plt.hist(p, bins=100, normed=True)\n",
    "plt.grid(True)\n",
    "plt.show()"
   ]
  },
  {
   "cell_type": "code",
   "execution_count": 31,
   "metadata": {
    "collapsed": false
   },
   "outputs": [
    {
     "name": "stdout",
     "output_type": "stream",
     "text": [
      "[ 13.26907725  12.66854677  13.14449312 ...,  14.16130262  13.269477\n",
      "  12.72452188]\n"
     ]
    }
   ],
   "source": [
    "a = np.zeros(10000)\n",
    "for i in range(t):\n",
    "    a += np.random.exponential(size=10000, scale=13.0)\n",
    "a /= t\n",
    "print(a)\n",
    "plt.hist(a, bins=100, normed=False)\n",
    "plt.grid(True)\n",
    "plt.show()"
   ]
  },
  {
   "cell_type": "code",
   "execution_count": 32,
   "metadata": {
    "collapsed": false
   },
   "outputs": [
    {
     "name": "stdout",
     "output_type": "stream",
     "text": [
      "[[-3. -3. -3. -3. -3. -3. -3.]\n",
      " [-2. -2. -2. -2. -2. -2. -2.]\n",
      " [-1. -1. -1. -1. -1. -1. -1.]\n",
      " [ 0.  0.  0.  0.  0.  0.  0.]\n",
      " [ 1.  1.  1.  1.  1.  1.  1.]\n",
      " [ 2.  2.  2.  2.  2.  2.  2.]\n",
      " [ 3.  3.  3.  3.  3.  3.  3.]]\n",
      "[[-3. -2. -1.  0.  1.  2.  3.]\n",
      " [-3. -2. -1.  0.  1.  2.  3.]\n",
      " [-3. -2. -1.  0.  1.  2.  3.]\n",
      " [-3. -2. -1.  0.  1.  2.  3.]\n",
      " [-3. -2. -1.  0.  1.  2.  3.]\n",
      " [-3. -2. -1.  0.  1.  2.  3.]\n",
      " [-3. -2. -1.  0.  1.  2.  3.]]\n",
      "[[-3.   -2.94 -2.88 ...,  2.88  2.94  3.  ]\n",
      " [-3.   -2.94 -2.88 ...,  2.88  2.94  3.  ]\n",
      " [-3.   -2.94 -2.88 ...,  2.88  2.94  3.  ]\n",
      " ..., \n",
      " [-3.   -2.94 -2.88 ...,  2.88  2.94  3.  ]\n",
      " [-3.   -2.94 -2.88 ...,  2.88  2.94  3.  ]\n",
      " [-3.   -2.94 -2.88 ...,  2.88  2.94  3.  ]]\n",
      "[[-3.   -3.   -3.   ..., -3.   -3.   -3.  ]\n",
      " [-2.94 -2.94 -2.94 ..., -2.94 -2.94 -2.94]\n",
      " [-2.88 -2.88 -2.88 ..., -2.88 -2.88 -2.88]\n",
      " ..., \n",
      " [ 2.88  2.88  2.88 ...,  2.88  2.88  2.88]\n",
      " [ 2.94  2.94  2.94 ...,  2.94  2.94  2.94]\n",
      " [ 3.    3.    3.   ...,  3.    3.    3.  ]]\n"
     ]
    }
   ],
   "source": [
    "    x, y = np.mgrid[-3:3:7j, -3:3:7j]\n",
    "    print(x)\n",
    "    print(y)\n",
    "    u = np.linspace(-3, 3, 101)\n",
    "    x, y = np.meshgrid(u, u)\n",
    "    print(x)\n",
    "    print(y)\n",
    "    z = x*y*np.exp(-(x**2 + y**2)/2) / math.sqrt(2*math.pi)\n",
    "    # z = x*y*np.exp(-(x**2 + y**2)/2) / math.sqrt(2*math.pi)\n",
    "    fig = plt.figure()\n",
    "    ax = fig.add_subplot(111, projection='3d')\n",
    "    # ax.plot_surface(x, y, z, rstride=5, cstride=5, cmap=cm.coolwarm, linewidth=0.1)  #\n",
    "    ax.plot_surface(x, y, z, rstride=3, cstride=3, cmap=cm.gist_heat, linewidth=0.5)\n",
    "    plt.show()"
   ]
  }
 ],
 "metadata": {
  "kernelspec": {
   "display_name": "Python 3",
   "language": "python",
   "name": "python3"
  },
  "language_info": {
   "codemirror_mode": {
    "name": "ipython",
    "version": 3
   },
   "file_extension": ".py",
   "mimetype": "text/x-python",
   "name": "python",
   "nbconvert_exporter": "python",
   "pygments_lexer": "ipython3",
   "version": "3.5.1"
  }
 },
 "nbformat": 4,
 "nbformat_minor": 0
}
