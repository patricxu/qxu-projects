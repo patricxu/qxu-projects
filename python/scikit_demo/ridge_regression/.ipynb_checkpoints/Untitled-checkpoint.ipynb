{
 "cells": [
  {
   "cell_type": "code",
   "execution_count": 1,
   "metadata": {
    "collapsed": true
   },
   "outputs": [],
   "source": [
    "import numpy as np\n",
    "import matplotlib as mpl\n",
    "from mpl_toolkits.mplot3d import Axes3D\n",
    "from matplotlib import cm\n",
    "import time\n",
    "from scipy.optimize import leastsq\n",
    "from scipy import stats\n",
    "import scipy.optimize as opt\n",
    "import matplotlib.pyplot as plt\n",
    "from scipy.stats import norm, poisson\n",
    "from scipy.interpolate import BarycentricInterpolator\n",
    "#from scipy.interpolate import CubicSpline\n",
    "import scipy as sp\n",
    "import math"
   ]
  },
  {
   "cell_type": "code",
   "execution_count": 5,
   "metadata": {
    "collapsed": false
   },
   "outputs": [],
   "source": [
    "t = 1000\n",
    "a = np.zeros(10000)\n",
    "for i in range(t):\n",
    "    a += np.random.uniform(-5, 5, 10000)\n",
    "a /= t\n",
    "plt.hist(a, bins=100, normed=True)\n",
    "plt.show()"
   ]
  },
  {
   "cell_type": "code",
   "execution_count": 21,
   "metadata": {
    "collapsed": false
   },
   "outputs": [],
   "source": [
    "lamda = 7\n",
    "a = np.zeros(10000)\n",
    "for i in range(t):\n",
    "    a += np.random.poisson(lam=lamda, size=10000)\n",
    "a\n",
    "plt.hist(p, bins=100, normed=True)\n",
    "plt.grid(True)\n",
    "plt.show()"
   ]
  },
  {
   "cell_type": "code",
   "execution_count": 29,
   "metadata": {
    "collapsed": false
   },
   "outputs": [
    {
     "name": "stdout",
     "output_type": "stream",
     "text": [
      "[ 1.92172226  2.01656453  1.92643321 ...,  1.9731564   1.91772215\n",
      "  2.03241346]\n"
     ]
    }
   ],
   "source": [
    "a = np.zeros(10000)\n",
    "for i in range(t):\n",
    "    a += np.random.exponential(size=10000, scale=13.0)\n",
    "a /= t\n",
    "print(a)\n",
    "plt.hist(a, bins=100, normed=False)\n",
    "plt.grid(True)\n",
    "plt.show()"
   ]
  }
 ],
 "metadata": {
  "kernelspec": {
   "display_name": "Python 3",
   "language": "python",
   "name": "python3"
  },
  "language_info": {
   "codemirror_mode": {
    "name": "ipython",
    "version": 3
   },
   "file_extension": ".py",
   "mimetype": "text/x-python",
   "name": "python",
   "nbconvert_exporter": "python",
   "pygments_lexer": "ipython3",
   "version": "3.5.1"
  }
 },
 "nbformat": 4,
 "nbformat_minor": 0
}
