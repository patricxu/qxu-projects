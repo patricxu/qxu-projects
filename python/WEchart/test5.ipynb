{
 "cells": [
  {
   "cell_type": "code",
   "execution_count": 14,
   "metadata": {
    "collapsed": false
   },
   "outputs": [
    {
     "name": "stdout",
     "output_type": "stream",
     "text": [
      "a json\n",
      "keys dict_keys(['p2', 'p1'])\n",
      "__getitem__ p2 2\n",
      "__getitem__ p1 1\n"
     ]
    },
    {
     "data": {
      "text/plain": [
       "[{'p1': '1', 'p2': '2'}]"
      ]
     },
     "execution_count": 14,
     "metadata": {},
     "output_type": "execute_result"
    }
   ],
   "source": [
    "class Base(object):\n",
    "    def __getitem__(self, key):\n",
    "        print(\"__getitem__ {0} {1}\".format(key, self.json.get(key)))\n",
    "        \n",
    "        return self.json.get(key)\n",
    "\n",
    "    def keys(self):\n",
    "        print(\"keys {0}\".format(self.json.keys()))\n",
    "        return self.json.keys()\n",
    "\n",
    "        \n",
    "class C(Base):\n",
    "    def __init__(self):\n",
    "        self.p1 = \"1\"\n",
    "        self.p2 = \"2\"\n",
    "    \n",
    "    @property\n",
    "    def json(self):\n",
    "        res = {}\n",
    "        for key in self.__dict__:\n",
    "            res.update({str(key):self.__dict__[key]})\n",
    "        return res\n",
    "    \n",
    "\n",
    "class A:\n",
    "    def __init__(self):\n",
    "        self.tmp = []\n",
    "        self.tmp.append(C())\n",
    "        \n",
    "    @property\n",
    "    def json(self):\n",
    "        print(\"a json\")\n",
    "        \n",
    "        return list(map(dict, self.tmp))\n",
    "    \n",
    "a = A()\n",
    "a.json\n",
    "        "
   ]
  },
  {
   "cell_type": "code",
   "execution_count": null,
   "metadata": {
    "collapsed": false
   },
   "outputs": [],
   "source": [
    "dict(c)"
   ]
  }
 ],
 "metadata": {
  "kernelspec": {
   "display_name": "Python 3",
   "language": "python",
   "name": "python3"
  },
  "language_info": {
   "codemirror_mode": {
    "name": "ipython",
    "version": 3
   },
   "file_extension": ".py",
   "mimetype": "text/x-python",
   "name": "python",
   "nbconvert_exporter": "python",
   "pygments_lexer": "ipython3",
   "version": "3.5.1"
  }
 },
 "nbformat": 4,
 "nbformat_minor": 0
}
